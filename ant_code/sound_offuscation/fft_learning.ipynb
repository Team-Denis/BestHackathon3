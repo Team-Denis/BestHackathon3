{
 "cells": [
  {
   "cell_type": "code",
   "outputs": [
    {
     "name": "stdout",
     "output_type": "stream",
     "text": [
      "\u001B[31mERROR: Could not find a version that satisfies the requirement pprint (from versions: none)\u001B[0m\u001B[31m\r\n",
      "\u001B[0m\u001B[31mERROR: No matching distribution found for pprint\u001B[0m\u001B[31m\r\n",
      "\u001B[0m\r\n",
      "\u001B[1m[\u001B[0m\u001B[34;49mnotice\u001B[0m\u001B[1;39;49m]\u001B[0m\u001B[39;49m A new release of pip is available: \u001B[0m\u001B[31;49m23.2.1\u001B[0m\u001B[39;49m -> \u001B[0m\u001B[32;49m24.0\u001B[0m\r\n",
      "\u001B[1m[\u001B[0m\u001B[34;49mnotice\u001B[0m\u001B[1;39;49m]\u001B[0m\u001B[39;49m To update, run: \u001B[0m\u001B[32;49mpip install --upgrade pip\u001B[0m\r\n"
     ]
    }
   ],
   "source": [
    "!pip install pprint"
   ],
   "metadata": {
    "collapsed": false,
    "ExecuteTime": {
     "end_time": "2024-04-20T23:23:48.597970Z",
     "start_time": "2024-04-20T23:23:47.652759Z"
    }
   },
   "id": "8bbaa4d725e6fc2f",
   "execution_count": 25
  },
  {
   "cell_type": "code",
   "execution_count": 26,
   "id": "initial_id",
   "metadata": {
    "collapsed": true,
    "ExecuteTime": {
     "end_time": "2024-04-20T23:23:48.602005Z",
     "start_time": "2024-04-20T23:23:48.599687Z"
    }
   },
   "outputs": [],
   "source": [
    "import matplotlib.pyplot as plt\n",
    "import numpy as np\n",
    "from pprint import pprint\n",
    "from scipy.io import wavfile"
   ]
  },
  {
   "cell_type": "code",
   "outputs": [
    {
     "data": {
      "text/plain": "(11113200,)"
     },
     "execution_count": 27,
     "metadata": {},
     "output_type": "execute_result"
    }
   ],
   "source": [
    "# create the signal \n",
    "duration = 10  # seconds\n",
    "wav_raw_data = wavfile.read(\"output/oppa_output.wav\")\n",
    "fs = wav_raw_data[0]  # sample frequency in Hz\n",
    "signal = wav_raw_data[1] / 2 ** 15  # normalize to [-1, 1]\n",
    "signal.shape"
   ],
   "metadata": {
    "collapsed": false,
    "ExecuteTime": {
     "end_time": "2024-04-20T23:23:48.640209Z",
     "start_time": "2024-04-20T23:23:48.603230Z"
    }
   },
   "id": "fe8e6f15bcea1f32",
   "execution_count": 27
  },
  {
   "cell_type": "code",
   "outputs": [
    {
     "name": "stdout",
     "output_type": "stream",
     "text": [
      "num_chunks 630\n"
     ]
    }
   ],
   "source": [
    "# Split the signal into chunks\n",
    "chunk_size = int(fs // 2.5)  # 1 second chunks\n",
    "num_chunks = len(signal) // chunk_size\n",
    "print(\"num_chunks\", num_chunks)\n",
    "chunks = np.array(np.split(signal[:num_chunks * chunk_size], num_chunks))"
   ],
   "metadata": {
    "collapsed": false,
    "ExecuteTime": {
     "end_time": "2024-04-20T23:23:48.667729Z",
     "start_time": "2024-04-20T23:23:48.641762Z"
    }
   },
   "id": "288d31f4bdf35d46",
   "execution_count": 28
  },
  {
   "cell_type": "code",
   "outputs": [
    {
     "name": "stdout",
     "output_type": "stream",
     "text": [
      "array([[ 0.        ,  0.        ,  0.        , ...,  0.        ,\n",
      "         0.        ,  0.        ],\n",
      "       [ 0.        ,  0.00592041,  0.01187134, ..., -0.01187134,\n",
      "        -0.00592041,  0.        ],\n",
      "       [ 0.        ,  0.00592041,  0.01187134, ..., -0.01187134,\n",
      "        -0.00592041,  0.        ],\n",
      "       ...,\n",
      "       [-0.0067749 , -0.00521851, -0.0010376 , ...,  0.00524902,\n",
      "         0.0067749 ,  0.00872803],\n",
      "       [ 0.01135254,  0.01269531,  0.01116943, ..., -0.02017212,\n",
      "        -0.01980591, -0.01928711],\n",
      "       [-0.01828003, -0.0177002 , -0.01739502, ..., -0.00881958,\n",
      "        -0.00970459, -0.01000977]])\n"
     ]
    },
    {
     "data": {
      "text/plain": "(630, 17640)"
     },
     "execution_count": 29,
     "metadata": {},
     "output_type": "execute_result"
    }
   ],
   "source": [
    "pprint(chunks)\n",
    "chunks.shape\n"
   ],
   "metadata": {
    "collapsed": false,
    "ExecuteTime": {
     "end_time": "2024-04-20T23:23:48.672076Z",
     "start_time": "2024-04-20T23:23:48.668591Z"
    }
   },
   "id": "76efc0921d2c0ad9",
   "execution_count": 29
  },
  {
   "cell_type": "code",
   "outputs": [
    {
     "data": {
      "text/plain": "(630, 17640)"
     },
     "execution_count": 30,
     "metadata": {},
     "output_type": "execute_result"
    }
   ],
   "source": [
    "# Compute the FFT for each chunk\n",
    "fft_chunks = np.array([np.fft.fft(chunk) for chunk in chunks])\n",
    "fft_chunks.shape"
   ],
   "metadata": {
    "collapsed": false,
    "ExecuteTime": {
     "end_time": "2024-04-20T23:23:48.940309Z",
     "start_time": "2024-04-20T23:23:48.672833Z"
    }
   },
   "id": "42031b1db2800999",
   "execution_count": 30
  },
  {
   "cell_type": "code",
   "outputs": [
    {
     "data": {
      "text/plain": "array([ 0. ,  2.5,  5. , ..., -7.5, -5. , -2.5])"
     },
     "execution_count": 31,
     "metadata": {},
     "output_type": "execute_result"
    }
   ],
   "source": [
    "# Compute the frequencies for the x-axis\n",
    "frequencies = np.fft.fftfreq(chunk_size, 1 / fs)\n",
    "frequencies"
   ],
   "metadata": {
    "collapsed": false,
    "ExecuteTime": {
     "end_time": "2024-04-20T23:23:48.945348Z",
     "start_time": "2024-04-20T23:23:48.941287Z"
    }
   },
   "id": "7fa2c3ef41149050",
   "execution_count": 31
  },
  {
   "cell_type": "code",
   "outputs": [
    {
     "data": {
      "text/plain": "0"
     },
     "execution_count": 32,
     "metadata": {},
     "output_type": "execute_result"
    }
   ],
   "source": [
    "# find the dominant frequency\n",
    "dominant_frequencies = np.abs(fft_chunks)[0].argmax()\n",
    "dominant_frequencies\n"
   ],
   "metadata": {
    "collapsed": false,
    "ExecuteTime": {
     "end_time": "2024-04-20T23:23:48.995742Z",
     "start_time": "2024-04-20T23:23:48.946076Z"
    }
   },
   "id": "1a6f298743299a13",
   "execution_count": 32
  },
  {
   "cell_type": "code",
   "outputs": [
    {
     "name": "stdout",
     "output_type": "stream",
     "text": [
      "(630, 8820)\n"
     ]
    },
    {
     "data": {
      "text/plain": "<matplotlib.image.AxesImage at 0x10f5a42f0>"
     },
     "execution_count": 33,
     "metadata": {},
     "output_type": "execute_result"
    },
    {
     "data": {
      "text/plain": "<Figure size 2000x700 with 1 Axes>",
      "image/png": "[encoded data removed]"
     },
     "metadata": {},
     "output_type": "display_data"
    }
   ],
   "source": [
    "fft_mags = np.abs(fft_chunks)\n",
    "fft_mags = np.array([fft_mag[:len(fft_mag) // 2] for fft_mag in fft_mags])\n",
    "print(fft_mags.shape)\n",
    "frequencies_chunk = frequencies[:len(frequencies) // 2]\n",
    "fft_mags = fft_mags.T\n",
    "fig = plt.figure(figsize=(20, 7))\n",
    "plt.imshow(fft_mags[0:100, :200], aspect='auto')\n"
   ],
   "metadata": {
    "collapsed": false,
    "ExecuteTime": {
     "end_time": "2024-04-20T23:23:49.326062Z",
     "start_time": "2024-04-20T23:23:48.996493Z"
    }
   },
   "id": "428066e0736e8447",
   "execution_count": 33
  },
  {
   "cell_type": "markdown",
   "source": [
    "# decode the code"
   ],
   "metadata": {
    "collapsed": false
   },
   "id": "545649a93b8ae678"
  },
  {
   "cell_type": "code",
   "outputs": [
    {
     "data": {
      "text/plain": "<matplotlib.image.AxesImage at 0x10edef980>"
     },
     "execution_count": 34,
     "metadata": {},
     "output_type": "execute_result"
    },
    {
     "data": {
      "text/plain": "<Figure size 2000x700 with 1 Axes>",
      "image/png": "[encoded data removed]"
     },
     "metadata": {},
     "output_type": "display_data"
    }
   ],
   "source": [
    "fig = plt.figure(figsize=(20, 7))\n",
    "plt.imshow(fft_mags[50:51, :300], aspect='auto')"
   ],
   "metadata": {
    "collapsed": false,
    "ExecuteTime": {
     "end_time": "2024-04-20T23:23:49.551179Z",
     "start_time": "2024-04-20T23:23:49.340567Z"
    }
   },
   "id": "d900258dbfbd42e7",
   "execution_count": 34
  },
  {
   "cell_type": "code",
   "outputs": [
    {
     "data": {
      "text/plain": "array([[0.00000000e+00, 2.93975320e+03, 2.93975320e+03, 2.93975320e+03,\n        0.00000000e+00, 2.93975320e+03, 2.93975320e+03, 0.00000000e+00,\n        0.00000000e+00, 2.93974751e+03, 2.85784393e+03, 5.48717739e+02,\n        3.32035088e+03, 2.79774266e+03, 2.59550887e+03, 3.25547717e+03,\n        8.83297615e+02, 3.04422347e+03, 3.13364423e+03, 3.04343851e+03,\n        5.69077766e+02, 2.56494713e+03, 3.12717662e+02, 4.94900538e+02,\n        3.81097302e+02, 3.28590466e+03, 2.87888982e+03, 2.88451241e+03,\n        9.24873176e+01, 4.65086652e+02, 3.38979965e+03, 2.42151218e+02,\n        4.43378725e+02, 3.24493059e+03, 2.40603745e+03, 4.18208268e+01,\n        5.32674795e+01, 2.99618280e+03, 4.18368295e+02, 2.56507627e+03,\n        1.98544417e+02, 3.49710370e+02, 2.94184202e+03, 1.28078804e+01,\n        3.85507733e+01, 2.93856642e+02, 1.34322082e+02, 4.59959523e+02,\n        5.14419389e+02, 3.16787213e+03, 2.60166040e+03, 2.91328761e+02,\n        2.36240361e+02, 4.83848349e+02, 3.05103390e+03, 3.20393461e+03,\n        6.71173578e+02, 2.75959205e+03, 3.17787002e+03, 5.60582596e+02,\n        2.94470431e+03, 3.33063198e+03, 3.47772796e+03, 2.87146984e+03,\n        2.04734160e+02, 2.65179797e+03, 3.20533725e+03, 3.67596839e+02,\n        3.80802050e+02, 3.11152317e+03, 3.42653258e+02, 6.55265179e+02,\n        1.99978028e+02, 3.04759436e+03, 2.73084842e+03, 5.40985975e+02,\n        5.62163341e+01, 2.37212561e+03, 1.80066943e+02, 3.03256545e+03,\n        4.49340598e+01, 6.87626296e+01, 2.73038749e+03, 4.05702228e+02,\n        7.44100660e+02, 2.08174228e+02, 4.53033446e+02, 2.17379936e+02,\n        5.20951582e+02, 5.16475448e+02, 2.83001106e+03, 3.04300280e+03,\n        2.81492967e+03, 6.16821213e+02, 3.17604742e+03, 4.42495644e+02,\n        7.09660941e+01, 6.02959050e+02, 2.89009816e+03, 1.44683824e+02,\n        7.32937569e+01, 2.03437334e+02, 5.37571786e+02, 4.72352310e+02,\n        1.57232409e+02, 3.52796800e+02, 2.93079277e+03, 2.40577916e+03,\n        8.25688095e+01, 2.73914893e+03, 1.63026081e+02, 3.10804398e+03,\n        3.17044091e+02, 2.98610462e+02, 2.67877029e+03, 2.84512800e+03,\n        8.72695271e+01, 2.96342283e+03, 2.86808202e+03, 3.08738021e+03,\n        7.62033824e+01, 7.67792418e+01, 2.82984562e+03, 2.92072050e+03,\n        7.37699712e+01, 8.87233355e+00, 3.00870210e+03, 2.97591294e+03,\n        5.68495369e+01, 1.62349934e+02, 2.84744274e+03, 3.03068776e+03,\n        3.00257293e+03, 5.96025480e+01, 7.72549065e+01, 2.87237625e+03,\n        6.15900807e+01, 1.46799602e+02, 3.03960707e+03, 8.50513443e+01,\n        2.95442244e+03, 2.87453748e+03, 2.91519461e+03, 1.70888741e+01,\n        1.93387298e+02, 1.30672499e+02, 2.88956227e+03, 1.32513493e+02,\n        7.42851274e+01, 6.78648842e+01, 5.81764164e+01, 6.84285223e+01,\n        6.21947730e+01, 2.90852813e+03, 2.83693691e+03, 7.24591825e+01,\n        3.02179144e+03, 5.09040086e+01, 7.62078778e+01, 6.16805131e+01,\n        7.53317221e+01, 2.90203068e+03, 2.96802186e+03, 5.02189072e+01,\n        2.90267873e+03, 7.83753844e+01, 1.42142455e+02, 3.00444386e+03,\n        1.65757229e+02, 3.00665374e+03, 2.92753638e+03, 6.85529478e+01,\n        2.94864912e+03, 2.93819655e+03, 2.88884840e+03, 1.12062193e+01,\n        1.66678909e+01, 2.94441426e+03, 2.83075956e+03, 2.87935059e+03,\n        5.08926234e+02, 3.20541656e+03, 4.90650977e+02, 4.20513594e+02,\n        5.84919634e+02, 7.13587047e+01, 3.06269230e+03, 1.05501876e+02,\n        5.19743370e+02, 5.04131216e+02, 4.80571477e+02, 3.21702789e+02,\n        3.21725470e+02, 7.36939420e+02, 3.00102551e+03, 2.83986071e+03,\n        2.85393543e+03, 3.35164745e+02, 3.49615696e+03, 3.16088337e+02,\n        3.78068719e+02, 1.94426999e+02, 2.45219128e+03, 1.86087132e+02,\n        1.59853609e+02, 2.15880828e+02, 3.84075994e+02, 6.56579138e+02,\n        2.57433782e+02, 2.45334804e+03, 2.94535188e+03, 3.04791905e+03,\n        3.55689428e+01, 7.22901212e+01, 2.69854465e+03, 5.76264434e+02,\n        5.32868235e+02, 3.11478339e+03, 3.38857729e+03, 1.68917598e+02,\n        6.21839876e+02, 3.09923075e+03, 1.54376442e+02, 3.10059823e+03,\n        6.42648730e+02, 2.97285165e+03, 2.71377040e+03, 2.31603801e+02,\n        2.15322894e+02, 2.72286757e+03, 2.99722000e+03, 3.04514735e+03,\n        1.94696719e+02, 3.20578152e+03, 3.25890118e+03, 2.42631505e+02,\n        1.64665536e+02, 2.13130751e+02, 3.42137132e+02, 2.88001456e+03,\n        1.55281644e+02, 2.86208581e+03, 3.26279087e+03, 2.93903269e+03,\n        2.24072857e+02, 2.41218213e+02, 2.76060351e+03, 1.64103666e+02,\n        4.31977924e+01, 2.90050175e+03, 2.93045448e+03, 1.58461781e+02,\n        4.60233994e+02, 3.03332001e+03, 4.10365209e+02, 2.47681562e+02,\n        6.53515798e+02, 3.39102985e+03, 2.90242631e+03, 2.11963038e+02,\n        2.43886201e+02, 3.31440908e+03, 5.48897086e+02, 2.60384461e+03,\n        1.39287648e+02, 3.14984315e+03, 2.43548986e+03, 3.08821898e+03,\n        3.12309252e+03, 2.59776352e+02, 2.62743650e+03, 4.79199606e+02,\n        2.28601619e+02, 4.26406499e+02, 2.99911361e+03, 5.43898031e+02,\n        3.22979509e+02, 1.45433178e+02, 2.81079081e+02, 5.18622194e+02,\n        7.04966917e+02, 2.68426062e+03, 2.95633111e+03, 3.03769656e+01,\n        2.80545378e+03, 2.88396687e+03, 8.87427442e+01, 1.75385578e+02,\n        3.62950102e+02, 2.77152341e+03, 3.06437647e+03, 3.57923845e+02,\n        2.25305649e+02, 3.12233935e+03, 3.48403404e+02, 2.84371954e+03,\n        2.65685045e+02, 4.69142793e+02, 3.60976549e+03, 1.50203853e+02,\n        3.21252393e+02, 2.73157941e+02, 5.59489480e+02, 5.18583927e+02,\n        1.57525823e+02, 3.06264817e+03, 4.05866437e+02, 5.59866666e+02,\n        2.95349397e+03, 3.08387701e+03, 1.09355669e+02, 2.30476077e+02,\n        5.41541006e+02, 2.84015865e+03, 2.55462102e+02, 2.46846887e+03,\n        4.99066892e+02, 3.10473272e+02, 3.04847269e+03, 3.07243115e+03,\n        1.66024243e+02, 2.94397533e+03, 1.15281530e+02, 1.00409665e+02,\n        6.59335213e+01, 2.11901551e+01, 2.97048912e+03, 4.14732958e+01,\n        9.29807490e+01, 6.06827275e+01, 2.90826579e+03, 1.02805393e+02,\n        1.17111755e+02, 2.41362861e+01, 7.35819039e+01, 9.04556199e+01,\n        9.32728824e+01, 2.97427192e+03, 3.07974271e+03, 1.47045138e+02,\n        1.05927317e+02, 2.96418366e+03, 1.10095166e+02, 2.34016874e+01,\n        8.62303431e+01, 3.02056363e+03, 3.00062702e+03, 4.77843662e+01,\n        7.68917705e+01, 2.76789690e+03, 6.04360593e+01, 3.01655519e+03,\n        5.57478888e+01, 1.24933040e+02, 2.84190083e+03, 8.75998365e+01,\n        1.27368183e+02, 7.69749711e+01, 6.87922509e+01, 6.31442908e+01,\n        6.73789910e+01, 2.92360647e+03, 2.96155997e+03, 5.74474408e+01,\n        6.45267797e+01, 5.36634511e+01, 2.99995768e+03, 2.95371627e+03,\n        5.26397523e+01, 2.85840051e+03, 3.06250801e+03, 1.44020949e+02,\n        2.81831556e+03, 2.08908957e+02, 3.47112578e+01, 7.59528457e+01,\n        1.74441488e+01, 2.93402399e+03, 2.93638201e+03, 4.64310099e+01,\n        1.03398053e+01, 1.29520388e+01, 1.80633349e+02, 3.19885062e+03,\n        4.12183512e+02, 3.05683739e+03, 2.80498401e+03, 3.07078506e+03,\n        2.81931216e+02, 5.04422608e+02, 1.71358829e+02, 2.89860670e+03,\n        3.56144496e+02, 3.12088483e+03, 2.84135094e+03, 3.03282699e+03,\n        3.05385607e+02, 2.54324843e+03, 6.65278437e+02, 2.95450827e+03,\n        1.63960083e+02, 2.80578517e+03, 2.59589783e+03, 3.12695936e+02,\n        2.25208503e+02, 3.25491338e+03, 3.96189062e+02, 3.21785190e+03,\n        8.28328655e+01, 2.47193281e+02, 2.95356411e+03, 6.70717375e+02,\n        4.95947823e+02, 4.57307579e+02, 1.49981198e+02, 1.51743905e+02,\n        8.13859413e+01, 2.87877003e+03, 2.92837690e+03, 3.01450807e+03,\n        5.47725679e+02, 3.78529562e+02, 3.11001033e+02, 3.87433617e+02,\n        3.44540909e+02, 3.44851313e+03, 2.71276703e+03, 9.67222664e+01,\n        2.95669137e+03, 3.25074781e+02, 5.54043962e+02, 3.04395203e+03,\n        4.94336937e+02, 3.21551630e+03, 3.34169527e+03, 2.91815164e+03,\n        3.04041897e+03, 2.41217658e+02, 2.96628162e+02, 5.97666090e+02,\n        1.38674098e+02, 3.04447565e+03, 2.90544181e+03, 4.09221112e+02,\n        1.55129135e+02, 2.78867526e+03, 2.34863188e+02, 2.60365489e+03,\n        3.34200530e+02, 3.29626954e+03, 3.02507197e+03, 2.03632312e+02,\n        2.77191933e+03, 2.94392741e+03, 7.43070247e+01, 1.59105623e+02,\n        6.25113587e+02, 7.37386897e+02, 3.14166719e+03, 4.92214774e+02,\n        1.13545355e+02, 1.69886029e+02, 3.74379831e+02, 1.52102810e+02,\n        1.55347198e+02, 2.40491288e+03, 3.43181480e+03, 2.99609375e+02,\n        4.88775848e+02, 3.03371881e+03, 3.72512860e+02, 4.66883383e+02,\n        1.68891956e+02, 2.95960844e+03, 3.29005497e+03, 5.38870976e+02,\n        3.29309408e+02, 2.78641219e+03, 1.68145211e+02, 2.96551384e+03,\n        4.52198066e+02, 1.88739595e+02, 2.91472965e+03, 4.72579453e+02,\n        3.37333753e+02, 2.00097453e+02, 2.13400523e+02, 1.83637907e+02,\n        2.41749003e+02, 2.98331639e+03, 2.87411302e+03, 8.49740770e+01,\n        2.90593864e+03, 2.89760477e+03, 8.10934036e+00, 8.89553244e+00,\n        1.52035565e+02, 1.52196422e+02, 2.96793077e+03, 2.12246750e+02,\n        1.12847655e+02, 2.92677732e+03, 3.27474723e+03, 2.96388656e+03,\n        1.40786008e+02, 3.28072604e+03, 2.98955184e+03, 6.78235320e+02,\n        2.99452862e+03, 2.05421329e+02, 1.36342658e+02, 3.40163429e+03,\n        4.17468681e+02, 2.70570331e+03, 3.01880973e+03, 6.06314487e+02,\n        2.92631404e+03, 2.96163468e+03, 1.72210428e+02, 3.03014705e+03,\n        3.01688193e+02, 2.74576470e+03, 3.08153098e+03, 3.89257805e+02,\n        2.54853342e+02, 5.08887348e+02, 1.20060267e+02, 2.82819327e+03,\n        2.52035783e+02, 3.36287085e+03, 2.79805542e+03, 5.06185284e+02,\n        1.96468924e+02, 2.93085927e+03, 2.78276166e+03, 2.87557101e+03,\n        1.40909265e+02, 2.98338403e+03, 2.89766520e+03, 1.34819018e+01,\n        1.07477993e+01, 2.93612651e+03, 1.75559074e+02, 2.96647605e+03,\n        3.46507989e+01, 3.01871277e+01, 2.94061850e+03, 2.64996065e+01,\n        2.93539909e+03, 2.93667303e+03, 2.94333315e+03, 5.72770722e+00,\n        1.56424988e+00, 1.37724836e+00, 4.08890380e+00, 1.47702126e+00,\n        2.40885853e-02, 2.93975729e+03, 2.24129518e+02, 3.92659705e+02,\n        3.54220278e+02, 4.88282844e+02, 3.31610178e+02, 7.57873059e+02,\n        8.92130908e+02, 3.28958547e+02, 1.93257463e+02, 2.57450064e+02,\n        5.87156909e+02, 6.33285621e+02, 4.88223121e+02, 5.21850702e+02,\n        5.28047329e+02, 9.62202864e+02, 3.73331775e+02, 1.38422543e+02,\n        2.73098219e+02, 6.17302491e+02, 6.84706753e+02, 4.94706781e+02,\n        7.68106931e+02, 1.28730187e+02, 1.11578056e+03, 7.01936144e+02,\n        2.00834136e+02, 3.10521133e+02, 5.90581695e+02, 8.26697016e+02,\n        4.49046739e+02, 6.56501177e+02, 2.35863069e+02, 7.67606965e+02,\n        7.92419925e+02, 1.88198133e+02, 2.36908722e+02, 3.15279012e+02,\n        4.33939419e+02, 2.78975014e+02, 3.98370756e+02, 3.11096549e+02,\n        7.37712009e+02, 8.38769891e+02, 1.62727086e+02, 1.46219410e+02,\n        2.42123201e+02, 5.22153332e+02, 5.96107799e+02, 4.88535283e+02,\n        4.42459223e+02, 6.77612028e+02, 7.11559818e+02, 3.26952110e+02,\n        1.24549297e+02, 1.95454820e+02, 3.67232533e+01, 1.31950976e+01,\n        9.28851367e+00, 3.30549704e+01, 1.51880081e+02, 6.39899577e+01,\n        4.26184141e+01, 2.66462077e+01, 1.44322681e+01, 3.18790931e+01,\n        1.89158113e+01, 1.77237890e+01, 8.01228745e-01, 5.82145585e+00,\n        4.52958625e+00, 7.85463030e-01]])"
     },
     "execution_count": 35,
     "metadata": {},
     "output_type": "execute_result"
    }
   ],
   "source": [
    "fft_mags[50:51, :]"
   ],
   "metadata": {
    "collapsed": false,
    "ExecuteTime": {
     "end_time": "2024-04-20T23:23:49.560755Z",
     "start_time": "2024-04-20T23:23:49.552429Z"
    }
   },
   "id": "d81e3b41ebc405a0",
   "execution_count": 35
  },
  {
   "cell_type": "code",
   "outputs": [],
   "source": [
    "binary = np.where(fft_mags[50:51, :] > 1000, 1, 0)"
   ],
   "metadata": {
    "collapsed": false,
    "ExecuteTime": {
     "end_time": "2024-04-20T23:23:49.564482Z",
     "start_time": "2024-04-20T23:23:49.561970Z"
    }
   },
   "id": "10695a51ce92a896",
   "execution_count": 36
  },
  {
   "cell_type": "code",
   "outputs": [
    {
     "data": {
      "text/plain": "<matplotlib.image.AxesImage at 0x10f7b9820>"
     },
     "execution_count": 37,
     "metadata": {},
     "output_type": "execute_result"
    },
    {
     "data": {
      "text/plain": "<Figure size 2000x700 with 1 Axes>",
      "image/png": "[encoded data removed]"
     },
     "metadata": {},
     "output_type": "display_data"
    }
   ],
   "source": [
    "fig = plt.figure(figsize=(20, 7))\n",
    "plt.imshow(binary, aspect='auto')\n"
   ],
   "metadata": {
    "collapsed": false,
    "ExecuteTime": {
     "end_time": "2024-04-20T23:23:49.817398Z",
     "start_time": "2024-04-20T23:23:49.565578Z"
    }
   },
   "id": "9846b02831977992",
   "execution_count": 37
  },
  {
   "cell_type": "code",
   "outputs": [
    {
     "data": {
      "text/plain": "[0,\n 1,\n 1,\n 1,\n 0,\n 1,\n 1,\n 0,\n 0,\n 1,\n 1,\n 0,\n 1,\n 1,\n 1,\n 1,\n 0,\n 1,\n 1,\n 1,\n 0,\n 1,\n 0,\n 0,\n 0,\n 1,\n 1,\n 1,\n 0,\n 0,\n 1,\n 0,\n 0,\n 1,\n 1,\n 0,\n 0,\n 1,\n 0,\n 1,\n 0,\n 0,\n 1,\n 0,\n 0,\n 0,\n 0,\n 0,\n 0,\n 1,\n 1,\n 0,\n 0,\n 0,\n 1,\n 1,\n 0,\n 1,\n 1,\n 0,\n 1,\n 1,\n 1,\n 1,\n 0,\n 1,\n 1,\n 0,\n 0,\n 1,\n 0,\n 0,\n 0,\n 1,\n 1,\n 0,\n 0,\n 1,\n 0,\n 1,\n 0,\n 0,\n 1,\n 0,\n 0,\n 0,\n 0,\n 0,\n 0,\n 0,\n 1,\n 1,\n 1,\n 0,\n 1,\n 0,\n 0,\n 0,\n 1,\n 0,\n 0,\n 0,\n 0,\n 0,\n 0,\n 0,\n 1,\n 1,\n 0,\n 1,\n 0,\n 1,\n 0,\n 0,\n 1,\n 1,\n 0,\n 1,\n 1,\n 1,\n 0,\n 0,\n 1,\n 1,\n 0,\n 0,\n 1,\n 1,\n 0,\n 0,\n 1,\n 1,\n 1,\n 0,\n 0,\n 1,\n 0,\n 0,\n 1,\n 0,\n 1,\n 1,\n 1,\n 0,\n 0,\n 0,\n 1,\n 0,\n 0,\n 0,\n 0,\n 0,\n 0,\n 1,\n 1,\n 0,\n 1,\n 0,\n 0,\n 0,\n 0,\n 1,\n 1,\n 0,\n 1,\n 0,\n 0,\n 1,\n 0,\n 1,\n 1,\n 0,\n 1,\n 1,\n 1,\n 0,\n 0,\n 1,\n 1,\n 1,\n 0,\n 1,\n 0,\n 0,\n 0,\n 0,\n 1,\n 0,\n 0,\n 0,\n 0,\n 0,\n 0,\n 0,\n 1,\n 1,\n 1,\n 0,\n 1,\n 0,\n 0,\n 0,\n 1,\n 0,\n 0,\n 0,\n 0,\n 0,\n 0,\n 1,\n 1,\n 1,\n 0,\n 0,\n 1,\n 0,\n 0,\n 1,\n 1,\n 0,\n 0,\n 1,\n 0,\n 1,\n 0,\n 1,\n 1,\n 0,\n 0,\n 1,\n 1,\n 1,\n 0,\n 1,\n 1,\n 0,\n 0,\n 0,\n 0,\n 1,\n 0,\n 1,\n 1,\n 1,\n 0,\n 0,\n 1,\n 0,\n 0,\n 1,\n 1,\n 0,\n 0,\n 1,\n 0,\n 0,\n 0,\n 1,\n 1,\n 0,\n 0,\n 1,\n 0,\n 1,\n 0,\n 1,\n 1,\n 1,\n 1,\n 0,\n 1,\n 0,\n 0,\n 0,\n 1,\n 0,\n 0,\n 0,\n 0,\n 0,\n 0,\n 1,\n 1,\n 0,\n 1,\n 1,\n 0,\n 0,\n 0,\n 1,\n 1,\n 0,\n 0,\n 1,\n 0,\n 1,\n 0,\n 0,\n 1,\n 0,\n 0,\n 0,\n 0,\n 0,\n 0,\n 1,\n 0,\n 0,\n 1,\n 1,\n 0,\n 0,\n 0,\n 1,\n 0,\n 1,\n 0,\n 0,\n 1,\n 1,\n 0,\n 1,\n 0,\n 0,\n 0,\n 0,\n 1,\n 0,\n 0,\n 0,\n 1,\n 0,\n 0,\n 0,\n 0,\n 0,\n 0,\n 1,\n 1,\n 0,\n 0,\n 1,\n 0,\n 0,\n 0,\n 1,\n 1,\n 0,\n 0,\n 1,\n 0,\n 1,\n 0,\n 0,\n 1,\n 0,\n 0,\n 0,\n 0,\n 0,\n 0,\n 1,\n 1,\n 0,\n 0,\n 0,\n 1,\n 1,\n 0,\n 1,\n 1,\n 0,\n 1,\n 0,\n 0,\n 0,\n 0,\n 1,\n 1,\n 0,\n 0,\n 0,\n 0,\n 1,\n 0,\n 1,\n 1,\n 1,\n 0,\n 0,\n 0,\n 1,\n 0,\n 1,\n 1,\n 1,\n 0,\n 1,\n 0,\n 1,\n 0,\n 1,\n 1,\n 0,\n 0,\n 1,\n 0,\n 1,\n 0,\n 0,\n 1,\n 0,\n 0,\n 0,\n 0,\n 0,\n 0,\n 1,\n 1,\n 1,\n 0,\n 0,\n 0,\n 0,\n 0,\n 1,\n 1,\n 0,\n 1,\n 0,\n 0,\n 1,\n 0,\n 1,\n 1,\n 1,\n 1,\n 0,\n 0,\n 0,\n 0,\n 1,\n 1,\n 0,\n 0,\n 1,\n 0,\n 1,\n 0,\n 1,\n 1,\n 0,\n 1,\n 1,\n 0,\n 0,\n 0,\n 0,\n 1,\n 0,\n 0,\n 0,\n 0,\n 0,\n 0,\n 1,\n 1,\n 0,\n 0,\n 1,\n 0,\n 0,\n 0,\n 1,\n 1,\n 0,\n 0,\n 1,\n 0,\n 1,\n 0,\n 0,\n 1,\n 0,\n 0,\n 0,\n 0,\n 0,\n 0,\n 1,\n 1,\n 0,\n 1,\n 1,\n 0,\n 0,\n 0,\n 0,\n 1,\n 0,\n 0,\n 1,\n 1,\n 1,\n 0,\n 1,\n 1,\n 0,\n 1,\n 0,\n 0,\n 1,\n 0,\n 1,\n 1,\n 0,\n 1,\n 1,\n 0,\n 1,\n 0,\n 1,\n 1,\n 0,\n 0,\n 0,\n 0,\n 1,\n 0,\n 1,\n 1,\n 0,\n 0,\n 1,\n 1,\n 1,\n 0,\n 1,\n 1,\n 0,\n 0,\n 1,\n 0,\n 1,\n 0,\n 0,\n 1,\n 0,\n 1,\n 1,\n 1,\n 0,\n 0,\n 0,\n 0,\n 0,\n 0,\n 1,\n 0,\n 0,\n 0,\n 0,\n 0,\n 0,\n 0,\n 0,\n 0,\n 0,\n 0,\n 0,\n 0,\n 0,\n 0,\n 0,\n 0,\n 0,\n 0,\n 0,\n 0,\n 0,\n 0,\n 0,\n 1,\n 0,\n 0,\n 0,\n 0,\n 0,\n 0,\n 0,\n 0,\n 0,\n 0,\n 0,\n 0,\n 0,\n 0,\n 0,\n 0,\n 0,\n 0,\n 0,\n 0,\n 0,\n 0,\n 0,\n 0,\n 0,\n 0,\n 0,\n 0,\n 0,\n 0,\n 0,\n 0,\n 0,\n 0,\n 0,\n 0,\n 0,\n 0,\n 0,\n 0,\n 0,\n 0,\n 0,\n 0,\n 0,\n 0,\n 0]"
     },
     "execution_count": 38,
     "metadata": {},
     "output_type": "execute_result"
    }
   ],
   "source": [
    "binary = list(binary[0])\n",
    "binary"
   ],
   "metadata": {
    "collapsed": false,
    "ExecuteTime": {
     "end_time": "2024-04-20T23:23:49.826366Z",
     "start_time": "2024-04-20T23:23:49.818538Z"
    }
   },
   "id": "9bb6e0f39788713",
   "execution_count": 38
  },
  {
   "cell_type": "code",
   "outputs": [
    {
     "data": {
      "text/plain": "'011101100110111101110100011100100110010100100000011000110110111101100100011001010010000000111010001000000011010100110111001100110011100100101110001000000110100001101001011011100111010000100000001110100010000001110010011001010110011101100001011100100110010001100101011110100010000001101100011001010010000001001100010100110100001000100000011001000110010100100000011000110110100001100001011100010111010101100101001000000111000001101001011110000110010101101100001000000110010001100101001000000110110000100111011010010110110101100001011001110110010100101110000001000000000000000000000000100000000000000000000000000000000000000000000000'"
     },
     "execution_count": 39,
     "metadata": {},
     "output_type": "execute_result"
    }
   ],
   "source": [
    "binary = \"\".join([str(bit) for bit in binary])\n",
    "binary"
   ],
   "metadata": {
    "collapsed": false,
    "ExecuteTime": {
     "end_time": "2024-04-20T23:23:49.831590Z",
     "start_time": "2024-04-20T23:23:49.827754Z"
    }
   },
   "id": "fa70900c1fa2e407",
   "execution_count": 39
  },
  {
   "cell_type": "code",
   "outputs": [],
   "source": [],
   "metadata": {
    "collapsed": false,
    "ExecuteTime": {
     "end_time": "2024-04-20T23:23:49.834720Z",
     "start_time": "2024-04-20T23:23:49.832836Z"
    }
   },
   "id": "30eb25b613d00fe3",
   "execution_count": 39
  },
  {
   "cell_type": "code",
   "outputs": [
    {
     "data": {
      "text/plain": "\"votre code : 5739. hint : regardez le LSB de chaque pixel de l'image.\\x04\\x00\\x00\\x02\\x00\\x00\\x00\\x00\\x00\""
     },
     "execution_count": 40,
     "metadata": {},
     "output_type": "execute_result"
    }
   ],
   "source": [
    "message = \"\"\n",
    "for i in range(len(binary) // 8):\n",
    "    byte: str = binary[i * 8: (i + 1) * 8]\n",
    "    message += chr(int(byte, 2))\n",
    "message"
   ],
   "metadata": {
    "collapsed": false,
    "ExecuteTime": {
     "end_time": "2024-04-20T23:23:49.840171Z",
     "start_time": "2024-04-20T23:23:49.836109Z"
    }
   },
   "id": "a61bf68b4f5736f2",
   "execution_count": 40
  },
  {
   "cell_type": "code",
   "outputs": [
    {
     "name": "stdout",
     "output_type": "stream",
     "text": [
      "Help on class int in module builtins:\n",
      "\n",
      "class int(object)\n",
      " |  int([x]) -> integer\n",
      " |  int(x, base=10) -> integer\n",
      " |\n",
      " |  Convert a number or string to an integer, or return 0 if no arguments\n",
      " |  are given.  If x is a number, return x.__int__().  For floating point\n",
      " |  numbers, this truncates towards zero.\n",
      " |\n",
      " |  If x is not a number or if base is given, then x must be a string,\n",
      " |  bytes, or bytearray instance representing an integer literal in the\n",
      " |  given base.  The literal can be preceded by '+' or '-' and be surrounded\n",
      " |  by whitespace.  The base defaults to 10.  Valid bases are 0 and 2-36.\n",
      " |  Base 0 means to interpret the base from the string as an integer literal.\n",
      " |  >>> int('0b100', base=0)\n",
      " |  4\n",
      " |\n",
      " |  Built-in subclasses:\n",
      " |      bool\n",
      " |\n",
      " |  Methods defined here:\n",
      " |\n",
      " |  __abs__(self, /)\n",
      " |      abs(self)\n",
      " |\n",
      " |  __add__(self, value, /)\n",
      " |      Return self+value.\n",
      " |\n",
      " |  __and__(self, value, /)\n",
      " |      Return self&value.\n",
      " |\n",
      " |  __bool__(self, /)\n",
      " |      True if self else False\n",
      " |\n",
      " |  __ceil__(...)\n",
      " |      Ceiling of an Integral returns itself.\n",
      " |\n",
      " |  __divmod__(self, value, /)\n",
      " |      Return divmod(self, value).\n",
      " |\n",
      " |  __eq__(self, value, /)\n",
      " |      Return self==value.\n",
      " |\n",
      " |  __float__(self, /)\n",
      " |      float(self)\n",
      " |\n",
      " |  __floor__(...)\n",
      " |      Flooring an Integral returns itself.\n",
      " |\n",
      " |  __floordiv__(self, value, /)\n",
      " |      Return self//value.\n",
      " |\n",
      " |  __format__(self, format_spec, /)\n",
      " |      Convert to a string according to format_spec.\n",
      " |\n",
      " |  __ge__(self, value, /)\n",
      " |      Return self>=value.\n",
      " |\n",
      " |  __getattribute__(self, name, /)\n",
      " |      Return getattr(self, name).\n",
      " |\n",
      " |  __getnewargs__(self, /)\n",
      " |\n",
      " |  __gt__(self, value, /)\n",
      " |      Return self>value.\n",
      " |\n",
      " |  __hash__(self, /)\n",
      " |      Return hash(self).\n",
      " |\n",
      " |  __index__(self, /)\n",
      " |      Return self converted to an integer, if self is suitable for use as an index into a list.\n",
      " |\n",
      " |  __int__(self, /)\n",
      " |      int(self)\n",
      " |\n",
      " |  __invert__(self, /)\n",
      " |      ~self\n",
      " |\n",
      " |  __le__(self, value, /)\n",
      " |      Return self<=value.\n",
      " |\n",
      " |  __lshift__(self, value, /)\n",
      " |      Return self<<value.\n",
      " |\n",
      " |  __lt__(self, value, /)\n",
      " |      Return self<value.\n",
      " |\n",
      " |  __mod__(self, value, /)\n",
      " |      Return self%value.\n",
      " |\n",
      " |  __mul__(self, value, /)\n",
      " |      Return self*value.\n",
      " |\n",
      " |  __ne__(self, value, /)\n",
      " |      Return self!=value.\n",
      " |\n",
      " |  __neg__(self, /)\n",
      " |      -self\n",
      " |\n",
      " |  __or__(self, value, /)\n",
      " |      Return self|value.\n",
      " |\n",
      " |  __pos__(self, /)\n",
      " |      +self\n",
      " |\n",
      " |  __pow__(self, value, mod=None, /)\n",
      " |      Return pow(self, value, mod).\n",
      " |\n",
      " |  __radd__(self, value, /)\n",
      " |      Return value+self.\n",
      " |\n",
      " |  __rand__(self, value, /)\n",
      " |      Return value&self.\n",
      " |\n",
      " |  __rdivmod__(self, value, /)\n",
      " |      Return divmod(value, self).\n",
      " |\n",
      " |  __repr__(self, /)\n",
      " |      Return repr(self).\n",
      " |\n",
      " |  __rfloordiv__(self, value, /)\n",
      " |      Return value//self.\n",
      " |\n",
      " |  __rlshift__(self, value, /)\n",
      " |      Return value<<self.\n",
      " |\n",
      " |  __rmod__(self, value, /)\n",
      " |      Return value%self.\n",
      " |\n",
      " |  __rmul__(self, value, /)\n",
      " |      Return value*self.\n",
      " |\n",
      " |  __ror__(self, value, /)\n",
      " |      Return value|self.\n",
      " |\n",
      " |  __round__(...)\n",
      " |      Rounding an Integral returns itself.\n",
      " |\n",
      " |      Rounding with an ndigits argument also returns an integer.\n",
      " |\n",
      " |  __rpow__(self, value, mod=None, /)\n",
      " |      Return pow(value, self, mod).\n",
      " |\n",
      " |  __rrshift__(self, value, /)\n",
      " |      Return value>>self.\n",
      " |\n",
      " |  __rshift__(self, value, /)\n",
      " |      Return self>>value.\n",
      " |\n",
      " |  __rsub__(self, value, /)\n",
      " |      Return value-self.\n",
      " |\n",
      " |  __rtruediv__(self, value, /)\n",
      " |      Return value/self.\n",
      " |\n",
      " |  __rxor__(self, value, /)\n",
      " |      Return value^self.\n",
      " |\n",
      " |  __sizeof__(self, /)\n",
      " |      Returns size in memory, in bytes.\n",
      " |\n",
      " |  __sub__(self, value, /)\n",
      " |      Return self-value.\n",
      " |\n",
      " |  __truediv__(self, value, /)\n",
      " |      Return self/value.\n",
      " |\n",
      " |  __trunc__(...)\n",
      " |      Truncating an Integral returns itself.\n",
      " |\n",
      " |  __xor__(self, value, /)\n",
      " |      Return self^value.\n",
      " |\n",
      " |  as_integer_ratio(self, /)\n",
      " |      Return a pair of integers, whose ratio is equal to the original int.\n",
      " |\n",
      " |      The ratio is in lowest terms and has a positive denominator.\n",
      " |\n",
      " |      >>> (10).as_integer_ratio()\n",
      " |      (10, 1)\n",
      " |      >>> (-10).as_integer_ratio()\n",
      " |      (-10, 1)\n",
      " |      >>> (0).as_integer_ratio()\n",
      " |      (0, 1)\n",
      " |\n",
      " |  bit_count(self, /)\n",
      " |      Number of ones in the binary representation of the absolute value of self.\n",
      " |\n",
      " |      Also known as the population count.\n",
      " |\n",
      " |      >>> bin(13)\n",
      " |      '0b1101'\n",
      " |      >>> (13).bit_count()\n",
      " |      3\n",
      " |\n",
      " |  bit_length(self, /)\n",
      " |      Number of bits necessary to represent self in binary.\n",
      " |\n",
      " |      >>> bin(37)\n",
      " |      '0b100101'\n",
      " |      >>> (37).bit_length()\n",
      " |      6\n",
      " |\n",
      " |  conjugate(...)\n",
      " |      Returns self, the complex conjugate of any int.\n",
      " |\n",
      " |  is_integer(self, /)\n",
      " |      Returns True. Exists for duck type compatibility with float.is_integer.\n",
      " |\n",
      " |  to_bytes(self, /, length=1, byteorder='big', *, signed=False)\n",
      " |      Return an array of bytes representing an integer.\n",
      " |\n",
      " |      length\n",
      " |        Length of bytes object to use.  An OverflowError is raised if the\n",
      " |        integer is not representable with the given number of bytes.  Default\n",
      " |        is length 1.\n",
      " |      byteorder\n",
      " |        The byte order used to represent the integer.  If byteorder is 'big',\n",
      " |        the most significant byte is at the beginning of the byte array.  If\n",
      " |        byteorder is 'little', the most significant byte is at the end of the\n",
      " |        byte array.  To request the native byte order of the host system, use\n",
      " |        `sys.byteorder' as the byte order value.  Default is to use 'big'.\n",
      " |      signed\n",
      " |        Determines whether two's complement is used to represent the integer.\n",
      " |        If signed is False and a negative integer is given, an OverflowError\n",
      " |        is raised.\n",
      " |\n",
      " |  ----------------------------------------------------------------------\n",
      " |  Class methods defined here:\n",
      " |\n",
      " |  from_bytes(bytes, byteorder='big', *, signed=False)\n",
      " |      Return the integer represented by the given array of bytes.\n",
      " |\n",
      " |      bytes\n",
      " |        Holds the array of bytes to convert.  The argument must either\n",
      " |        support the buffer protocol or be an iterable object producing bytes.\n",
      " |        Bytes and bytearray are examples of built-in objects that support the\n",
      " |        buffer protocol.\n",
      " |      byteorder\n",
      " |        The byte order used to represent the integer.  If byteorder is 'big',\n",
      " |        the most significant byte is at the beginning of the byte array.  If\n",
      " |        byteorder is 'little', the most significant byte is at the end of the\n",
      " |        byte array.  To request the native byte order of the host system, use\n",
      " |        `sys.byteorder' as the byte order value.  Default is to use 'big'.\n",
      " |      signed\n",
      " |        Indicates whether two's complement is used to represent the integer.\n",
      " |\n",
      " |  ----------------------------------------------------------------------\n",
      " |  Static methods defined here:\n",
      " |\n",
      " |  __new__(*args, **kwargs)\n",
      " |      Create and return a new object.  See help(type) for accurate signature.\n",
      " |\n",
      " |  ----------------------------------------------------------------------\n",
      " |  Data descriptors defined here:\n",
      " |\n",
      " |  denominator\n",
      " |      the denominator of a rational number in lowest terms\n",
      " |\n",
      " |  imag\n",
      " |      the imaginary part of a complex number\n",
      " |\n",
      " |  numerator\n",
      " |      the numerator of a rational number in lowest terms\n",
      " |\n",
      " |  real\n",
      " |      the real part of a complex number\n"
     ]
    }
   ],
   "source": [
    "help(int)"
   ],
   "metadata": {
    "collapsed": false,
    "ExecuteTime": {
     "end_time": "2024-04-20T23:23:49.852051Z",
     "start_time": "2024-04-20T23:23:49.841625Z"
    }
   },
   "id": "2133d523e4e5ed9e",
   "execution_count": 41
  },
  {
   "cell_type": "code",
   "outputs": [],
   "source": [],
   "metadata": {
    "collapsed": false,
    "ExecuteTime": {
     "end_time": "2024-04-20T23:23:49.854985Z",
     "start_time": "2024-04-20T23:23:49.853085Z"
    }
   },
   "id": "2771e4f295b05b3f",
   "execution_count": 41
  }
 ],
 "metadata": {
  "kernelspec": {
   "display_name": "Python 3",
   "language": "python",
   "name": "python3"
  },
  "language_info": {
   "codemirror_mode": {
    "name": "ipython",
    "version": 2
   },
   "file_extension": ".py",
   "mimetype": "text/x-python",
   "name": "python",
   "nbconvert_exporter": "python",
   "pygments_lexer": "ipython2",
   "version": "2.7.6"
  }
 },
 "nbformat": 4,
 "nbformat_minor": 5
}
