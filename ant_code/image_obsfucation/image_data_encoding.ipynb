{
 "cells": [
  {
   "cell_type": "code",
   "id": "initial_id",
   "metadata": {
    "ExecuteTime": {
     "end_time": "2024-04-21T04:28:11.970231Z",
     "start_time": "2024-04-21T04:28:07.341067Z"
    }
   },
   "source": [
    "!pip install numpy\n",
    "!pip install matplotlib\n",
    "!pip install PIL"
   ],
   "outputs": [
    {
     "name": "stdout",
     "output_type": "stream",
     "text": [
      "Requirement already satisfied: numpy in c:\\users\\antoi\\pycharmprojects\\best-hackathon-3\\ant_code\\venv\\lib\\site-packages (1.26.4)\n"
     ]
    },
    {
     "name": "stderr",
     "output_type": "stream",
     "text": [
      "\n",
      "[notice] A new release of pip is available: 23.2.1 -> 24.0\n",
      "[notice] To update, run: python.exe -m pip install --upgrade pip\n"
     ]
    },
    {
     "name": "stdout",
     "output_type": "stream",
     "text": [
      "Requirement already satisfied: matplotlib in c:\\users\\antoi\\pycharmprojects\\best-hackathon-3\\ant_code\\venv\\lib\\site-packages (3.8.4)\n",
      "Requirement already satisfied: contourpy>=1.0.1 in c:\\users\\antoi\\pycharmprojects\\best-hackathon-3\\ant_code\\venv\\lib\\site-packages (from matplotlib) (1.2.1)\n",
      "Requirement already satisfied: cycler>=0.10 in c:\\users\\antoi\\pycharmprojects\\best-hackathon-3\\ant_code\\venv\\lib\\site-packages (from matplotlib) (0.12.1)\n",
      "Requirement already satisfied: fonttools>=4.22.0 in c:\\users\\antoi\\pycharmprojects\\best-hackathon-3\\ant_code\\venv\\lib\\site-packages (from matplotlib) (4.51.0)\n",
      "Requirement already satisfied: kiwisolver>=1.3.1 in c:\\users\\antoi\\pycharmprojects\\best-hackathon-3\\ant_code\\venv\\lib\\site-packages (from matplotlib) (1.4.5)\n",
      "Requirement already satisfied: numpy>=1.21 in c:\\users\\antoi\\pycharmprojects\\best-hackathon-3\\ant_code\\venv\\lib\\site-packages (from matplotlib) (1.26.4)\n",
      "Requirement already satisfied: packaging>=20.0 in c:\\users\\antoi\\pycharmprojects\\best-hackathon-3\\ant_code\\venv\\lib\\site-packages (from matplotlib) (24.0)\n",
      "Requirement already satisfied: pillow>=8 in c:\\users\\antoi\\pycharmprojects\\best-hackathon-3\\ant_code\\venv\\lib\\site-packages (from matplotlib) (10.3.0)\n",
      "Requirement already satisfied: pyparsing>=2.3.1 in c:\\users\\antoi\\pycharmprojects\\best-hackathon-3\\ant_code\\venv\\lib\\site-packages (from matplotlib) (3.1.2)\n",
      "Requirement already satisfied: python-dateutil>=2.7 in c:\\users\\antoi\\pycharmprojects\\best-hackathon-3\\ant_code\\venv\\lib\\site-packages (from matplotlib) (2.9.0.post0)\n",
      "Requirement already satisfied: six>=1.5 in c:\\users\\antoi\\pycharmprojects\\best-hackathon-3\\ant_code\\venv\\lib\\site-packages (from python-dateutil>=2.7->matplotlib) (1.16.0)\n"
     ]
    },
    {
     "name": "stderr",
     "output_type": "stream",
     "text": [
      "\n",
      "[notice] A new release of pip is available: 23.2.1 -> 24.0\n",
      "[notice] To update, run: python.exe -m pip install --upgrade pip\n",
      "ERROR: Could not find a version that satisfies the requirement PIL (from versions: none)\n",
      "ERROR: No matching distribution found for PIL\n",
      "\n",
      "[notice] A new release of pip is available: 23.2.1 -> 24.0\n",
      "[notice] To update, run: python.exe -m pip install --upgrade pip\n"
     ]
    }
   ],
   "execution_count": 182
  },
  {
   "cell_type": "code",
   "id": "f7facf793df77514",
   "metadata": {
    "collapsed": false,
    "jupyter": {
     "outputs_hidden": false
    },
    "ExecuteTime": {
     "end_time": "2024-04-21T04:28:11.973863Z",
     "start_time": "2024-04-21T04:28:11.970735Z"
    }
   },
   "source": [
    "from matplotlib.image import imread\n",
    "import numpy as np\n",
    "from PIL import Image"
   ],
   "outputs": [],
   "execution_count": 183
  },
  {
   "cell_type": "code",
   "id": "95dd5eccf0dc36c1",
   "metadata": {
    "collapsed": false,
    "jupyter": {
     "outputs_hidden": false
    },
    "ExecuteTime": {
     "end_time": "2024-04-21T04:28:11.986783Z",
     "start_time": "2024-04-21T04:28:11.973863Z"
    }
   },
   "source": [
    "image = imread('data/img_V2.png')[:, :, 0:3]\n",
    "image.shape"
   ],
   "outputs": [
    {
     "data": {
      "text/plain": [
       "(690, 500, 3)"
      ]
     },
     "execution_count": 184,
     "metadata": {},
     "output_type": "execute_result"
    }
   ],
   "execution_count": 184
  },
  {
   "cell_type": "code",
   "id": "2ea68b847642a311",
   "metadata": {
    "collapsed": false,
    "jupyter": {
     "outputs_hidden": false
    },
    "ExecuteTime": {
     "end_time": "2024-04-21T04:28:12.000212Z",
     "start_time": "2024-04-21T04:28:11.986783Z"
    }
   },
   "source": [
    "# convert image to 8 bit per channel\n",
    "image = (image * 255).astype(np.uint8)\n",
    "\n",
    "image"
   ],
   "outputs": [
    {
     "data": {
      "text/plain": [
       "array([[[243, 205,  96],\n",
       "        [192, 152,  31],\n",
       "        [201, 156,  11],\n",
       "        ...,\n",
       "        [253, 253, 253],\n",
       "        [255, 255, 255],\n",
       "        [233, 233, 233]],\n",
       "\n",
       "       [[242, 204,  95],\n",
       "        [191, 151,  30],\n",
       "        [200, 155,  10],\n",
       "        ...,\n",
       "        [253, 253, 253],\n",
       "        [255, 255, 255],\n",
       "        [229, 229, 229]],\n",
       "\n",
       "       [[242, 204,  95],\n",
       "        [191, 151,  30],\n",
       "        [200, 155,  10],\n",
       "        ...,\n",
       "        [255, 255, 255],\n",
       "        [255, 255, 255],\n",
       "        [227, 227, 227]],\n",
       "\n",
       "       ...,\n",
       "\n",
       "       [[255, 255, 157],\n",
       "        [237, 234,  95],\n",
       "        [235, 234,  32],\n",
       "        ...,\n",
       "        [255, 255, 255],\n",
       "        [255, 255, 255],\n",
       "        [255, 255, 255]],\n",
       "\n",
       "       [[255, 255, 154],\n",
       "        [233, 232,  90],\n",
       "        [238, 239,  39],\n",
       "        ...,\n",
       "        [255, 255, 255],\n",
       "        [255, 255, 255],\n",
       "        [255, 255, 255]],\n",
       "\n",
       "       [[255, 255, 150],\n",
       "        [232, 231,  87],\n",
       "        [237, 239,  41],\n",
       "        ...,\n",
       "        [255, 255, 255],\n",
       "        [255, 255, 255],\n",
       "        [255, 255, 255]]], dtype=uint8)"
      ]
     },
     "execution_count": 185,
     "metadata": {},
     "output_type": "execute_result"
    }
   ],
   "execution_count": 185
  },
  {
   "cell_type": "code",
   "id": "8ed2192924dd5a7a",
   "metadata": {
    "collapsed": false,
    "jupyter": {
     "outputs_hidden": false
    },
    "ExecuteTime": {
     "end_time": "2024-04-21T04:28:12.006031Z",
     "start_time": "2024-04-21T04:28:12.000212Z"
    }
   },
   "source": [
    "with open('output/encoded_image.BMP', 'wb') as f:\n",
    "    # encode BMP image\n",
    "    Image.fromarray(image).save(f, 'BMP')"
   ],
   "outputs": [],
   "execution_count": 186
  },
  {
   "cell_type": "code",
   "id": "6d7567984722c470",
   "metadata": {
    "collapsed": false,
    "jupyter": {
     "outputs_hidden": false
    },
    "ExecuteTime": {
     "end_time": "2024-04-21T04:28:12.011763Z",
     "start_time": "2024-04-21T04:28:12.006031Z"
    }
   },
   "source": [
    "code_encode = \"une rune d'eau : 5739. BTW j'adore les 100Hz wink wink\"\n",
    "# convert code to binary string forcing it to be 8 bits long\n",
    "caracters_values = [ord(c) for c in code_encode]\n",
    "code_string = ''.join([format(c, '08b') for c in caracters_values])\n",
    "print(code_string)\n",
    "code_string = code_string +  format(4, '08b')\n",
    "code_string"
   ],
   "outputs": [
    {
     "name": "stdout",
     "output_type": "stream",
     "text": [
      "011101010110111001100101001000000111001001110101011011100110010100100000011001000010011101100101011000010111010100100000001110100010000000110101001101110011001100111001001011100010000001000010010101000101011100100000011010100010011101100001011001000110111101110010011001010010000001101100011001010111001100100000001100010011000000110000010010000111101000100000011101110110100101101110011010110010000001110111011010010110111001101011\n"
     ]
    },
    {
     "data": {
      "text/plain": [
       "'01110101011011100110010100100000011100100111010101101110011001010010000001100100001001110110010101100001011101010010000000111010001000000011010100110111001100110011100100101110001000000100001001010100010101110010000001101010001001110110000101100100011011110111001001100101001000000110110001100101011100110010000000110001001100000011000001001000011110100010000001110111011010010110111001101011001000000111011101101001011011100110101100000100'"
      ]
     },
     "execution_count": 187,
     "metadata": {},
     "output_type": "execute_result"
    }
   ],
   "execution_count": 187
  },
  {
   "cell_type": "code",
   "id": "abeea88107bf1669",
   "metadata": {
    "ExecuteTime": {
     "end_time": "2024-04-21T04:28:12.015155Z",
     "start_time": "2024-04-21T04:28:12.011763Z"
    }
   },
   "source": [
    "offset = 0\n",
    "code_string = \"\".join([\"0\" for i in range(offset)]) + code_string"
   ],
   "outputs": [],
   "execution_count": 188
  },
  {
   "cell_type": "code",
   "id": "affaaa7b69d980f8",
   "metadata": {
    "collapsed": false,
    "jupyter": {
     "outputs_hidden": false
    },
    "ExecuteTime": {
     "end_time": "2024-04-21T04:28:12.019920Z",
     "start_time": "2024-04-21T04:28:12.016160Z"
    }
   },
   "source": [
    "encoding_length = image.shape[0] * image.shape[1] * image.shape[2]\n",
    "print(\"encoding space 3 channels \", encoding_length)\n",
    "print(\"encoding space 1 channel \", encoding_length // image.shape[2])\n",
    "print(\"code length \", len(code_string))\n",
    "assert len(code_string) <= encoding_length // image.shape[2]"
   ],
   "outputs": [
    {
     "name": "stdout",
     "output_type": "stream",
     "text": [
      "encoding space 3 channels  1035000\n",
      "encoding space 1 channel  345000\n",
      "code length  440\n"
     ]
    }
   ],
   "execution_count": 189
  },
  {
   "cell_type": "code",
   "id": "b0996afe9ad09236",
   "metadata": {
    "collapsed": false,
    "jupyter": {
     "outputs_hidden": false
    },
    "ExecuteTime": {
     "end_time": "2024-04-21T04:28:12.023856Z",
     "start_time": "2024-04-21T04:28:12.019920Z"
    }
   },
   "source": [
    "def encode_bit(bit, pixel_value):\n",
    "    if bit == 1:\n",
    "        if pixel_value % 2 == 0:\n",
    "            return pixel_value + 1\n",
    "        elif pixel_value == 255:\n",
    "            return pixel_value - 1\n",
    "        else:\n",
    "            return pixel_value\n",
    "    else:\n",
    "        if pixel_value % 2 == 0:\n",
    "            return pixel_value\n",
    "        elif pixel_value == 0:\n",
    "            return pixel_value + 1\n",
    "        else:\n",
    "            return pixel_value - 1\n"
   ],
   "outputs": [],
   "execution_count": 190
  },
  {
   "cell_type": "code",
   "id": "c1dc50ca58a1af1b",
   "metadata": {
    "collapsed": false,
    "jupyter": {
     "outputs_hidden": false
    },
    "ExecuteTime": {
     "end_time": "2024-04-21T04:28:12.027798Z",
     "start_time": "2024-04-21T04:28:12.023856Z"
    }
   },
   "source": [
    "# for i, bit in enumerate(code_string):\n",
    "#     pixel = image[i% image.shape[1], i//image.shape[1] , 0]\n",
    "#     print(pixel, bit, encode_bit(int(bit), pixel))"
   ],
   "outputs": [],
   "execution_count": 191
  },
  {
   "cell_type": "code",
   "id": "ff7752279eb281c1",
   "metadata": {
    "collapsed": false,
    "jupyter": {
     "outputs_hidden": false
    },
    "ExecuteTime": {
     "end_time": "2024-04-21T04:28:15.946485Z",
     "start_time": "2024-04-21T04:28:12.029005Z"
    }
   },
   "source": [
    "\n",
    "for i in range(image.shape[0]):\n",
    "    for j in range(image.shape[1]):\n",
    "        if i * image.shape[1] + j < len(code_string):\n",
    "            for k in range(image.shape[2]):\n",
    "    \n",
    "                image[i, j, k] = encode_bit(int(code_string[i * image.shape[1] + j]), image[i, j, k])\n",
    "        else:\n",
    "            for k in range(image.shape[2]):\n",
    "                image[i, j, k] = encode_bit(0, image[i, j, k])\n",
    "\n",
    "with open('output/encoded_image.bmp', 'wb') as f:\n",
    "    # encode BMP image\n",
    "    Image.fromarray(image).save(f, 'BMP')"
   ],
   "outputs": [],
   "execution_count": 192
  },
  {
   "cell_type": "code",
   "id": "96a4759cb71e05f5",
   "metadata": {
    "collapsed": false,
    "jupyter": {
     "outputs_hidden": false
    },
    "ExecuteTime": {
     "end_time": "2024-04-21T04:28:15.949496Z",
     "start_time": "2024-04-21T04:28:15.946485Z"
    }
   },
   "source": [],
   "outputs": [],
   "execution_count": 192
  },
  {
   "cell_type": "code",
   "id": "189180bbf79c4380",
   "metadata": {
    "collapsed": false,
    "jupyter": {
     "outputs_hidden": false
    },
    "ExecuteTime": {
     "end_time": "2024-04-21T04:28:15.954152Z",
     "start_time": "2024-04-21T04:28:15.949496Z"
    }
   },
   "source": [
    "import re\n",
    "def decode_bit(pixel_value):\n",
    "    return pixel_value % 2\n",
    "\n",
    "\n",
    "def decode_image(image):\n",
    "    k = 0\n",
    "    code_string = ''\n",
    "    for i in range(image.shape[0]):\n",
    "        for j in range(image.shape[1]):\n",
    "            code_string += str(decode_bit(image[i, j, k]))\n",
    "    return code_string\n",
    "\n",
    "def to_string(decoded_bits):\n",
    "    caracters_values = [decoded_bits[i:i + 8] for i in range(0, len(decoded_bits), 8)]\n",
    "    return ''.join([chr(int(c, 2)) for c in caracters_values])\n",
    "    "
   ],
   "outputs": [],
   "execution_count": 193
  },
  {
   "cell_type": "code",
   "id": "4852273561730604",
   "metadata": {
    "collapsed": false,
    "jupyter": {
     "outputs_hidden": false
    },
    "ExecuteTime": {
     "end_time": "2024-04-21T04:28:16.564826Z",
     "start_time": "2024-04-21T04:28:15.955158Z"
    }
   },
   "source": [
    "decoded_bits = decode_image(image)\n",
    "decoded_string = to_string(decoded_bits)\n",
    "decoded_string.strip(\"\\x00\"), len(decoded_string)"
   ],
   "outputs": [
    {
     "data": {
      "text/plain": [
       "(\"une rune d'eau : 5739. BTW j'adop\", 43125)"
      ]
     },
     "execution_count": 194,
     "metadata": {},
     "output_type": "execute_result"
    }
   ],
   "execution_count": 194
  },
  {
   "cell_type": "code",
   "id": "3e6ca1cee1683f5",
   "metadata": {
    "collapsed": false,
    "jupyter": {
     "outputs_hidden": false
    },
    "ExecuteTime": {
     "end_time": "2024-04-21T04:28:16.569792Z",
     "start_time": "2024-04-21T04:28:16.564826Z"
    }
   },
   "source": [
    "code_string"
   ],
   "outputs": [
    {
     "data": {
      "text/plain": [
       "'01110101011011100110010100100000011100100111010101101110011001010010000001100100001001110110010101100001011101010010000000111010001000000011010100110111001100110011100100101110001000000100001001010100010101110010000001101010001001110110000101100100011011110111001001100101001000000110110001100101011100110010000000110001001100000011000001001000011110100010000001110111011010010110111001101011001000000111011101101001011011100110101100000100'"
      ]
     },
     "execution_count": 195,
     "metadata": {},
     "output_type": "execute_result"
    }
   ],
   "execution_count": 195
  },
  {
   "cell_type": "code",
   "id": "fd5695f9e1730ae4",
   "metadata": {
    "collapsed": false,
    "jupyter": {
     "outputs_hidden": false
    },
    "ExecuteTime": {
     "end_time": "2024-04-21T04:28:16.577160Z",
     "start_time": "2024-04-21T04:28:16.570863Z"
    }
   },
   "source": [
    "loaded_image = imread('output/encoded_image.bmp')\n",
    "loaded_image.shape"
   ],
   "outputs": [
    {
     "data": {
      "text/plain": [
       "(690, 500, 3)"
      ]
     },
     "execution_count": 196,
     "metadata": {},
     "output_type": "execute_result"
    }
   ],
   "execution_count": 196
  },
  {
   "cell_type": "code",
   "id": "f9269f3e26eaf756",
   "metadata": {
    "collapsed": false,
    "jupyter": {
     "outputs_hidden": false
    },
    "ExecuteTime": {
     "end_time": "2024-04-21T04:28:17.198091Z",
     "start_time": "2024-04-21T04:28:16.577160Z"
    }
   },
   "source": [
    "decoded_bits = decode_image(image)\n",
    "decoded_string = to_string(decoded_bits)\n",
    "decoded_string.strip(\"\\x00\"), len(decoded_string)"
   ],
   "outputs": [
    {
     "data": {
      "text/plain": [
       "(\"une rune d'eau : 5739. BTW j'adop\", 43125)"
      ]
     },
     "execution_count": 197,
     "metadata": {},
     "output_type": "execute_result"
    }
   ],
   "execution_count": 197
  },
  {
   "cell_type": "code",
   "id": "6549cb00b809bd0f",
   "metadata": {
    "collapsed": false,
    "jupyter": {
     "outputs_hidden": false
    },
    "ExecuteTime": {
     "end_time": "2024-04-21T04:28:17.201002Z",
     "start_time": "2024-04-21T04:28:17.198091Z"
    }
   },
   "source": [],
   "outputs": [],
   "execution_count": 197
  }
 ],
 "metadata": {
  "kernelspec": {
   "display_name": "Python 3 (ipykernel)",
   "language": "python",
   "name": "python3"
  },
  "language_info": {
   "codemirror_mode": {
    "name": "ipython",
    "version": 3
   },
   "file_extension": ".py",
   "mimetype": "text/x-python",
   "name": "python",
   "nbconvert_exporter": "python",
   "pygments_lexer": "ipython3",
   "version": "3.12.1"
  }
 },
 "nbformat": 4,
 "nbformat_minor": 5
}
